{
 "cells": [
  {
   "cell_type": "code",
   "execution_count": 10,
   "metadata": {
    "scrolled": true
   },
   "outputs": [],
   "source": [
    "from __future__ import print_function\n",
    "import pickle\n",
    "import os.path\n",
    "from googleapiclient.discovery import build\n",
    "from google_auth_oauthlib.flow import InstalledAppFlow\n",
    "from google.auth.transport.requests import Request\n",
    "from email.mime.text import MIMEText\n",
    "from email.mime.multipart import MIMEMultipart\n",
    "from email.mime.base import MIMEBase\n",
    "import mimetypes\n",
    "import base64\n",
    "import csv\n",
    "# If modifying these scopes, delete the file token.pickle.\n",
    "#SCOPES = ['https://www.googleapis.com/auth/gmail.readonly']\n",
    "SCOPES = ['https://www.googleapis.com/auth/gmail.send']"
   ]
  },
  {
   "cell_type": "code",
   "execution_count": 16,
   "metadata": {},
   "outputs": [],
   "source": [
    "def create_message(sender, to, replyto, subject, message_text):\n",
    "  \"\"\"Create a message for an email.\n",
    "\n",
    "  Args:\n",
    "    sender: Email address of the sender.\n",
    "    to: Email address of the receiver.\n",
    "    subject: The subject of the email message.\n",
    "    message_text: The text of the email message.\n",
    "\n",
    "  Returns:\n",
    "    An object containing a base64url encoded email object.\n",
    "  \"\"\"\n",
    "  message = MIMEText(message_text, 'html')\n",
    "  message['to'] = to\n",
    "  message['from'] = sender\n",
    "  message['subject'] = subject\n",
    "  message['reply-to'] = replyto\n",
    "    \n",
    "  b64_bytes = base64.urlsafe_b64encode(message.as_bytes())\n",
    "  b64_string = b64_bytes.decode()\n",
    "\n",
    "  #return {'raw': base64.urlsafe_b64encode(message.as_string())}\n",
    "  return {'raw': b64_string}"
   ]
  },
  {
   "cell_type": "code",
   "execution_count": 17,
   "metadata": {},
   "outputs": [],
   "source": [
    "def send_message(service, user_id, message):\n",
    "  \"\"\"Send an email message.\n",
    "\n",
    "  Args:\n",
    "    service: Authorized Gmail API service instance.\n",
    "    user_id: User's email address. The special value \"me\"\n",
    "    can be used to indicate the authenticated user.\n",
    "    message: Message to be sent.\n",
    "\n",
    "  Returns:\n",
    "    Sent Message.\n",
    "  \"\"\"\n",
    "  try:\n",
    "    message = (service.users().messages().send(userId=user_id, body=message)\n",
    "               .execute())\n",
    "    print(\"Message Id: %s\" % message['id'])\n",
    "    return message\n",
    "  except Exception as error:\n",
    "    print('An error occurred: %s' % error)"
   ]
  },
  {
   "cell_type": "code",
   "execution_count": 18,
   "metadata": {},
   "outputs": [],
   "source": [
    "def send():\n",
    "    \"\"\"Shows basic usage of the Gmail API.\n",
    "    Lists the user's Gmail labels.\n",
    "    \"\"\"\n",
    "    creds = None\n",
    "    # The file token.pickle stores the user's access and refresh tokens, and is\n",
    "    # created automatically when the authorization flow completes for the first\n",
    "    # time.\n",
    "    if os.path.exists('token.pickle'):\n",
    "        with open('token.pickle', 'rb') as token:\n",
    "            creds = pickle.load(token)\n",
    "    # If there are no (valid) credentials available, let the user log in.\n",
    "    if not creds or not creds.valid:\n",
    "        if creds and creds.expired and creds.refresh_token:\n",
    "            creds.refresh(Request())\n",
    "        else:\n",
    "            flow = InstalledAppFlow.from_client_secrets_file(\n",
    "                'credentials.json', SCOPES)\n",
    "            creds = flow.run_local_server(port=0)\n",
    "        # Save the credentials for the next run\n",
    "        with open('token.pickle', 'wb') as token:\n",
    "            pickle.dump(creds, token)\n",
    "\n",
    "    service = build('gmail', 'v1', credentials=creds)\n",
    "\n",
    "    # Call the Gmail API\n",
    "    #results = service.users().labels().list(userId='me').execute()\n",
    "    #labels = results.get('labels', [])\n",
    "\n",
    "    #if not labels:\n",
    "    #    print('No labels found.')\n",
    "    #else:\n",
    "    #    print('Labels:')\n",
    "    #    for label in labels:\n",
    "    #        print(label['name'])\n",
    "    send_message(service, 'me', message)"
   ]
  },
  {
   "cell_type": "code",
   "execution_count": 39,
   "metadata": {
    "scrolled": true
   },
   "outputs": [
    {
     "name": "stdout",
     "output_type": "stream",
     "text": [
      "0000 No Reply no-reply@ku.edu.tr\n",
      "Message Id: 1768efef4e559181\n"
     ]
    }
   ],
   "source": [
    "with open(\"testing_list.csv\", \"r\", encoding=\"utf8\") as f:\n",
    "    reader = csv.reader(f, delimiter=\",\")\n",
    "    for line in enumerate(reader):\n",
    "        #print('line[{}] = {}'.format(i, line))\n",
    "        #print(line[0].strip(\",\"))\n",
    "        userid = line[1][0].zfill(4)\n",
    "        #fn = \"certs\\\\KUAR_certificate__Data Set \"+userid+\".pdf\"\n",
    "        name = line[1][1]\n",
    "        email = line[1][2]\n",
    "        \n",
    "        print(userid, name, email)\n",
    "        \n",
    "        sender = \"kuar@ku.edu.tr\"\n",
    "        replyto = 'no-reply@ku.edu.tr' \n",
    "        subject = 'KUAR Designlab Bilgilendirme'\n",
    "        #subject = subject.encode(\"latin1\")\n",
    "        #subject = unicode(subject, 'latin1')\n",
    "        \n",
    "        message_text = \"\"\"<p>-------- L&uuml;tfen bu e-postayı cevaplamayınız.&nbsp; &nbsp;--------</p>\n",
    "        <p>Merhaba \"\"\" + name +\"\"\",</p>\n",
    "        <p>Aramıza hoşgeldin! Bundan sonraki s&uuml;re&ccedil;le&nbsp;ilgili sizi bilgilendirmek istiyoruz:</p>\n",
    "        <ol>\n",
    "        <li>2021 yılı i&ccedil;erisinde herhangi bir zamanda sizin <strong>profilinize uygun</strong> &ccedil;alışmalarımız olduğunda sizinle temas kuruyor olacağız.</li>\n",
    "        <li>Size<strong> hemen </strong>bir &ccedil;alışma g&ouml;ndermemizi l&uuml;tfen beklemeyiniz.&nbsp; &nbsp;</li>\n",
    "        <li>Bu e-mail hesabının <strong>spam olarak işaretlenmediğine</strong>&nbsp;l&uuml;tfen dikkat ediniz.</li>\n",
    "        <li>Size g&ouml;nderilen g&ouml;revlerin <strong>10 tanesini </strong>tamamladığınızda <strong>Deneyimli Katılımcı Sertifikası</strong> alacağınızı hatırlatmak isteriz.</li>\n",
    "        </ol>\n",
    "        <p>Sağlıklı g&uuml;nler dileriz.</p>\n",
    "        <p>KUARteam</p>\n",
    "        <p><a href=\"http://kuar.ku.edu.tr/\" target=\"_blank\" rel=\"noopener\">Ko&ccedil; University&nbsp;&ndash; Ar&ccedil;elik Research Center for Creative Industries</a></p>\"\"\"\n",
    "        \n",
    "        message = create_message(sender, email, replyto, subject, message_text)\n",
    "        \n",
    "        #send()\n",
    "        "
   ]
  },
  {
   "cell_type": "code",
   "execution_count": 7,
   "metadata": {},
   "outputs": [],
   "source": [
    "#send()"
   ]
  }
 ],
 "metadata": {
  "kernelspec": {
   "display_name": "Python 3",
   "language": "python",
   "name": "python3"
  },
  "language_info": {
   "codemirror_mode": {
    "name": "ipython",
    "version": 3
   },
   "file_extension": ".py",
   "mimetype": "text/x-python",
   "name": "python",
   "nbconvert_exporter": "python",
   "pygments_lexer": "ipython3",
   "version": "3.7.9"
  }
 },
 "nbformat": 4,
 "nbformat_minor": 4
}
